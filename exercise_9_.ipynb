{
 "cells": [
  {
   "cell_type": "markdown",
   "metadata": {},
   "source": [
    "# Exercise 9\n",
    "Write a program to count how many integers from 1 to 1000 are not perfect squares, perfect\n",
    "cubes, or perfect fifth powers."
   ]
  },
  {
   "cell_type": "code",
   "execution_count": 8,
   "metadata": {},
   "outputs": [
    {
     "name": "stdout",
     "output_type": "stream",
     "text": [
      "Entre 1 y 1000 no son cuadrados perfectos: 969\n",
      "Entre 1 y 1000 no son cubos perfectos: 997\n",
      "Entre 1 y 1000 no son potencias de 5 perfectas: 997\n"
     ]
    }
   ],
   "source": [
    "# Analysis\n",
    "# .1 Recorrer los números del 1 al 1000\n",
    "# .2 Revisar cuantos enteros no son cuadrados perfectos\n",
    "# .3 Revisar cuantos enteros no son cubos perfectos\n",
    "# .4 Revisar cuantos enteros no son potencias de 5\n",
    "\n",
    "# Esta es una de las soluciones más simples, son válidas otras opciones\n",
    "\n",
    "# solution 1\n",
    "square_count = 0\n",
    "cube_count = 0\n",
    "fith_count = 0\n",
    "for num in range(1, 1001):\n",
    "    # Con fines didácticos mostrar el esquema tradicional de encadenados\n",
    "    # Mostrar la diferencia de utilizar la secuencia if - elif - else\n",
    "    if num % ( num ** (1/2) ) != 0:\n",
    "        square_count += 1\n",
    "    \n",
    "    if num % ( num ** (1/3) ) != 0:\n",
    "        cube_count += 1\n",
    "    \n",
    "    if num % ( num ** (1/5) ) != 0:\n",
    "        fith_count += 1\n",
    "\n",
    "print(f'Entre 1 y 1000 no son cuadrados perfectos: {square_count}')\n",
    "print(f'Entre 1 y 1000 no son cubos perfectos: {cube_count}')\n",
    "print(f'Entre 1 y 1000 no son potencias de 5 perfectas: {fith_count}')"
   ]
  },
  {
   "cell_type": "code",
   "execution_count": 2,
   "metadata": {},
   "outputs": [
    {
     "data": {
      "text/plain": [
       "8.0"
      ]
     },
     "execution_count": 2,
     "metadata": {},
     "output_type": "execute_result"
    }
   ],
   "source": [
    "\n",
    "\n"
   ]
  }
 ],
 "metadata": {
  "interpreter": {
   "hash": "3313d7862e35f23cb796a0d5e1a05f5386948db6518b51457360428deb8d3fb3"
  },
  "kernelspec": {
   "display_name": "Python 3.8.3 64-bit ('base': conda)",
   "language": "python",
   "name": "python3"
  },
  "language_info": {
   "codemirror_mode": {
    "name": "ipython",
    "version": 3
   },
   "file_extension": ".py",
   "mimetype": "text/x-python",
   "name": "python",
   "nbconvert_exporter": "python",
   "pygments_lexer": "ipython3",
   "version": "3.8.3"
  },
  "orig_nbformat": 4
 },
 "nbformat": 4,
 "nbformat_minor": 2
}
