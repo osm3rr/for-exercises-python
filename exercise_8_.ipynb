{
 "cells": [
  {
   "cell_type": "markdown",
   "metadata": {},
   "source": [
    "# Exercise 8\n",
    "Write a program that swaps the values of three variables x , y , and z , so that x gets the value of y , y gets the value of z , and z gets the value of x ."
   ]
  },
  {
   "cell_type": "code",
   "execution_count": 1,
   "metadata": {},
   "outputs": [
    {
     "name": "stdout",
     "output_type": "stream",
     "text": [
      "New x: 2\n",
      "New y: 3\n",
      "New z: 1\n"
     ]
    }
   ],
   "source": [
    "# Data entry\n",
    "x = int( input('x: ') )\n",
    "y = int( input('y: ') )\n",
    "z = int( input('z: ') )\n",
    "\n",
    "# Nota:\n",
    "# Presentar esta facilidad de python por partes\n",
    "\n",
    "# Logic\n",
    "x, y, z = y, z, x\n",
    "\n",
    "print(f'New x: {x}')\n",
    "print(f'New y: {y}')\n",
    "print(f'New z: {z}')\n"
   ]
  }
 ],
 "metadata": {
  "interpreter": {
   "hash": "3313d7862e35f23cb796a0d5e1a05f5386948db6518b51457360428deb8d3fb3"
  },
  "kernelspec": {
   "display_name": "Python 3.8.3 64-bit ('base': conda)",
   "language": "python",
   "name": "python3"
  },
  "language_info": {
   "codemirror_mode": {
    "name": "ipython",
    "version": 3
   },
   "file_extension": ".py",
   "mimetype": "text/x-python",
   "name": "python",
   "nbconvert_exporter": "python",
   "pygments_lexer": "ipython3",
   "version": "3.8.3"
  },
  "orig_nbformat": 4
 },
 "nbformat": 4,
 "nbformat_minor": 2
}
