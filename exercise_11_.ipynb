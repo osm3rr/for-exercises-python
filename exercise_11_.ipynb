{
 "cells": [
  {
   "cell_type": "markdown",
   "metadata": {},
   "source": [
    "#  Exercise 11 \n",
    "\n",
    "Write a program that asks the user to guess a random number between 1 and 10. \n",
    "If they guess right, they get 10 points added to their score, and they lose 1 point\n",
    "for an incorrect guess. Give the user five numbers to guess and print\n",
    "their score after all the guessing is done.\n"
   ]
  },
  {
   "cell_type": "code",
   "execution_count": null,
   "metadata": {},
   "outputs": [],
   "source": [
    "from random import randint\n",
    "\n",
    "secret_number = randint(1, 10)\n",
    "\n",
    "#** Utilizar este print con fines didácticos, mientras se construye la lógica\n",
    "\n",
    "#print(f'The secret number was: {secret_number}')\n",
    "\n",
    "score = 0\n",
    "attemps = 5\n",
    "\n",
    "for attemp in range(attemps):\n",
    "    guess = int( input('Entry a number between 1 and 10: ') )\n",
    "\n",
    "    if guess == secret_number:\n",
    "        score += 10\n",
    "        # ** Nota: \n",
    "        # Explicar la necesidad del break, en la naturaleza \n",
    "        # del problema que se aborda. \n",
    "        # Analizar el funcionamiento de la lógica sin incluir el break\n",
    "        break\n",
    "    else:\n",
    "        score -= 1\n",
    "\n",
    "print(f'The secret number was: {secret_number}')\n",
    "print(f'Your score is: {score}')"
   ]
  }
 ],
 "metadata": {
  "interpreter": {
   "hash": "3313d7862e35f23cb796a0d5e1a05f5386948db6518b51457360428deb8d3fb3"
  },
  "kernelspec": {
   "display_name": "Python 3.8.3 64-bit ('base': conda)",
   "language": "python",
   "name": "python3"
  },
  "language_info": {
   "name": "python",
   "version": "3.8.3"
  },
  "orig_nbformat": 4
 },
 "nbformat": 4,
 "nbformat_minor": 2
}
