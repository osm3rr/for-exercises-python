{
 "cells": [
  {
   "cell_type": "markdown",
   "metadata": {},
   "source": [
    "# Exercise 6\n",
    "A number is called a perfect number if it is equal to the sum of all of its divisors, \n",
    "not including the number itself. For instance, 6 is a perfect number because the\n",
    "divisors of 6 are 1, 2, 3, 6 and 6 = 1 + 2 + 3 . As another example, 28 is a perfect\n",
    "number because its divisors are 1, 2, 4, 7, 14, 28 and 28 = 1 + 2 + 4 + 7 + 14 .\n",
    "However, 15 is not a perfect number because its divisors are 1, 3, 5, 15 and \n",
    "15 6 = 1 + 3 + 5 . Write a program that finds all four of the perfect numbers\n",
    "that are less than 10000."
   ]
  },
  {
   "cell_type": "code",
   "execution_count": 1,
   "metadata": {},
   "outputs": [
    {
     "name": "stdout",
     "output_type": "stream",
     "text": [
      "The number 28, is a perfect number\n"
     ]
    }
   ],
   "source": [
    "# Solution\n",
    "\n",
    "# Analysis\n",
    "# .1 Entrada de datos\n",
    "# .2 Encontrar los divisores\n",
    "# .3 Restar a los divisores el número analizado\n",
    "# .4 Comparar el número ingresado con la suma de sus divisores\n",
    "# .5 Presentar los resultados\n",
    "\n",
    "# Data entry\n",
    "number = int( input( 'Enter a integer number: ' ) )\n",
    "\n",
    "# Logic\n",
    "\n",
    "# part 1: find divisors\n",
    "divisor_sum = 0\n",
    "\n",
    "for num in range(1, number + 1):\n",
    "    if ( number % num ) == 0:\n",
    "        # print(num)\n",
    "        divisor_sum += num\n",
    "\n",
    "# part 2: find perfect number and results\n",
    "\n",
    "if (divisor_sum - number == number):\n",
    "    print(f'The number {number}, is a perfect number')\n",
    "else:\n",
    "    print( f'The number {number}, is not a perfect number')\n",
    "\n"
   ]
  }
 ],
 "metadata": {
  "interpreter": {
   "hash": "3313d7862e35f23cb796a0d5e1a05f5386948db6518b51457360428deb8d3fb3"
  },
  "kernelspec": {
   "display_name": "Python 3.8.3 64-bit ('base': conda)",
   "language": "python",
   "name": "python3"
  },
  "language_info": {
   "codemirror_mode": {
    "name": "ipython",
    "version": 3
   },
   "file_extension": ".py",
   "mimetype": "text/x-python",
   "name": "python",
   "nbconvert_exporter": "python",
   "pygments_lexer": "ipython3",
   "version": "3.8.3"
  },
  "orig_nbformat": 4
 },
 "nbformat": 4,
 "nbformat_minor": 2
}
