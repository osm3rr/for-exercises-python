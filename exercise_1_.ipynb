{
 "cells": [
  {
   "cell_type": "markdown",
   "metadata": {},
   "source": [
    "# Exercise 1\n",
    "Write a program that counts how many \n",
    "of the squares of the numbers\n",
    "from 1 to 100 end in a 1."
   ]
  },
  {
   "cell_type": "code",
   "execution_count": null,
   "metadata": {},
   "outputs": [],
   "source": [
    "# ***** Recomendaciones para su solución ****\n",
    "# .1 Generar los cuadrados de los números del 1 al 101\n",
    "# .2 Identificar un número que termine en 1 (resto)\n",
    "# .3 Contar los números\n",
    "# .4 Presentar la solución\n",
    "# .5 Validar la solución\n",
    "\n",
    "# Contador de los cuadrados terminados en 1\n",
    "count_1 = 0 \n",
    "\n",
    "for number in range(1, 101):\n",
    "    # print(number ** 2)\n",
    "    if ( number ** 2 ) % 10 == 1:\n",
    "        count_1 += 1\n",
    "\n",
    "print(f'Los cuadrados que terminan en 1 son: {count_1}')\n",
    "\n"
   ]
  }
 ],
 "metadata": {
  "interpreter": {
   "hash": "3313d7862e35f23cb796a0d5e1a05f5386948db6518b51457360428deb8d3fb3"
  },
  "kernelspec": {
   "display_name": "Python 3.8.3 64-bit ('base': conda)",
   "language": "python",
   "name": "python3"
  },
  "language_info": {
   "name": "python",
   "version": "3.8.3"
  },
  "orig_nbformat": 4
 },
 "nbformat": 4,
 "nbformat_minor": 2
}
