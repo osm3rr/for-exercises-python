{
 "cells": [
  {
   "cell_type": "markdown",
   "metadata": {},
   "source": [
    "#  Exercise 10\n",
    "Write a program that computes the factorial of a number. The factorial, n! ,\n",
    "fof a number n is the product of all the integers between 1 and n , including n . \n",
    "For instance, 5! = 1 · 2 · 3 · 4 · 5 = 120 .[Hint: Try using a multiplicative\n",
    "equivalent of the summing technique.]\n"
   ]
  },
  {
   "cell_type": "code",
   "execution_count": 1,
   "metadata": {},
   "outputs": [
    {
     "name": "stdout",
     "output_type": "stream",
     "text": [
      "The factorial of \"5\" is: 120\n"
     ]
    }
   ],
   "source": [
    "# Soluction\n",
    "number = int( input( 'Entry a number:' ) )\n",
    "\n",
    "# Varible para guardar los resultados de las multiplicaciones\n",
    "fact = 1\n",
    "\n",
    "for num in range(1, number + 1):\n",
    "    fact *= num\n",
    "\n",
    "print(f'The factorial of \"{number}\" is: {fact}')\n"
   ]
  }
 ],
 "metadata": {
  "interpreter": {
   "hash": "3313d7862e35f23cb796a0d5e1a05f5386948db6518b51457360428deb8d3fb3"
  },
  "kernelspec": {
   "display_name": "Python 3.8.3 64-bit ('base': conda)",
   "language": "python",
   "name": "python3"
  },
  "language_info": {
   "codemirror_mode": {
    "name": "ipython",
    "version": 3
   },
   "file_extension": ".py",
   "mimetype": "text/x-python",
   "name": "python",
   "nbconvert_exporter": "python",
   "pygments_lexer": "ipython3",
   "version": "3.8.3"
  },
  "orig_nbformat": 4
 },
 "nbformat": 4,
 "nbformat_minor": 2
}
