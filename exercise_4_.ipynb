{
 "cells": [
  {
   "cell_type": "markdown",
   "metadata": {},
   "source": [
    "# Exercise 4\n",
    "Write a program to compute the sum 1 − 2 + 3 − 4 + · · · + 1999 − 2000\n"
   ]
  },
  {
   "cell_type": "code",
   "execution_count": 1,
   "metadata": {},
   "outputs": [
    {
     "name": "stdout",
     "output_type": "stream",
     "text": [
      "El resultado es: -1000\n"
     ]
    }
   ],
   "source": [
    "# Data entry\n",
    "number = int( input( ' n = ' ) )\n",
    "\n",
    "# Calculations\n",
    "total = 0\n",
    "\n",
    "# part 1: even sum\n",
    "for num in range(1, number + 1):\n",
    "    if (num % 2) == 0:\n",
    "        total -= num\n",
    "    else:\n",
    "        total += num\n",
    "\n",
    "# # part 2: results\n",
    "print(f'El resultado es: {total}')"
   ]
  }
 ],
 "metadata": {
  "interpreter": {
   "hash": "3313d7862e35f23cb796a0d5e1a05f5386948db6518b51457360428deb8d3fb3"
  },
  "kernelspec": {
   "display_name": "Python 3.8.3 64-bit ('base': conda)",
   "language": "python",
   "name": "python3"
  },
  "language_info": {
   "codemirror_mode": {
    "name": "ipython",
    "version": 3
   },
   "file_extension": ".py",
   "mimetype": "text/x-python",
   "name": "python",
   "nbconvert_exporter": "python",
   "pygments_lexer": "ipython3",
   "version": "3.8.3"
  },
  "orig_nbformat": 4
 },
 "nbformat": 4,
 "nbformat_minor": 2
}
