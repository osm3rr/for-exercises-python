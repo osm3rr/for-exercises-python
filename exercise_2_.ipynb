{
 "cells": [
  {
   "cell_type": "markdown",
   "metadata": {},
   "source": [
    "# Exercise 2\n",
    "Write a program that counts how many of the squares \n",
    "of the numbers from 1 to 100 end in a 4 and how many end in a 9."
   ]
  },
  {
   "cell_type": "code",
   "execution_count": 1,
   "metadata": {},
   "outputs": [
    {
     "name": "stdout",
     "output_type": "stream",
     "text": [
      "Los cuadrados que terminan en 4 son: 20\n",
      "Los cuadrados que terminan en 9 son: 20\n"
     ]
    }
   ],
   "source": [
    "# ***** Recomendaciones para su solución ****\n",
    "# .1 Generar los cuadrados de los números del 1 al 101\n",
    "# .2 Identificar un número que termine en 4 y 9 (resto)\n",
    "# .3 Contar los números\n",
    "# .4 Presentar la solución\n",
    "# .5 Validar la solución\n",
    "\n",
    "# Contadores\n",
    "count_4 = 0\n",
    "count_9 = 0\n",
    "\n",
    "for number in range( 1, 101 ):\n",
    "    # print( number ** 2 )\n",
    "    if ( number ** 2 ) % 10 == 4:\n",
    "        count_4 += 1\n",
    "\n",
    "    elif ( number ** 2 ) % 10 == 9:\n",
    "        count_9 += 1\n",
    "        \n",
    "print(f'Los cuadrados que terminan en 4 son: {count_4}')\n",
    "print(f'Los cuadrados que terminan en 9 son: {count_9}')"
   ]
  }
 ],
 "metadata": {
  "interpreter": {
   "hash": "3313d7862e35f23cb796a0d5e1a05f5386948db6518b51457360428deb8d3fb3"
  },
  "kernelspec": {
   "display_name": "Python 3.8.3 64-bit ('base': conda)",
   "language": "python",
   "name": "python3"
  },
  "language_info": {
   "codemirror_mode": {
    "name": "ipython",
    "version": 3
   },
   "file_extension": ".py",
   "mimetype": "text/x-python",
   "name": "python",
   "nbconvert_exporter": "python",
   "pygments_lexer": "ipython3",
   "version": "3.8.3"
  },
  "orig_nbformat": 4
 },
 "nbformat": 4,
 "nbformat_minor": 2
}
