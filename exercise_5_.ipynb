{
 "cells": [
  {
   "cell_type": "markdown",
   "metadata": {},
   "source": [
    "# Exercise 5\n",
    "Write a program that asks the user to enter a number and prints the sum of the divisors of\n",
    "that number. The sum of the divisors of a number is an important function in number theory."
   ]
  },
  {
   "cell_type": "code",
   "execution_count": 1,
   "metadata": {},
   "outputs": [
    {
     "name": "stdout",
     "output_type": "stream",
     "text": [
      "The sum of the divisors of 50 is: 93\n"
     ]
    }
   ],
   "source": [
    "# # Analysis\n",
    "# .1 Ingreso de los datos\n",
    "# .2 Recorrer de uno en uno hasta el número ingresado\n",
    "# .3 Identificar los divisores\n",
    "# .4 Sumar los divisores\n",
    "# .5 Presentar los resultados\n",
    "# .6 Validar los resultados\n",
    "\n",
    "# Data entry\n",
    "number = int( input( 'Enter a integer number: ' ) )\n",
    "\n",
    "# Calculations\n",
    "\n",
    "# part 1: \n",
    "divisor_sum = 0\n",
    "\n",
    "for num in range(1, number + 1):\n",
    "    if ( number % num ) == 0:\n",
    "        # print(num)\n",
    "        divisor_sum += num\n",
    "\n",
    "# Results\n",
    "print(f'The sum of the divisors of {number} is: {divisor_sum}')"
   ]
  }
 ],
 "metadata": {
  "interpreter": {
   "hash": "3313d7862e35f23cb796a0d5e1a05f5386948db6518b51457360428deb8d3fb3"
  },
  "kernelspec": {
   "display_name": "Python 3.8.3 64-bit ('base': conda)",
   "language": "python",
   "name": "python3"
  },
  "language_info": {
   "codemirror_mode": {
    "name": "ipython",
    "version": 3
   },
   "file_extension": ".py",
   "mimetype": "text/x-python",
   "name": "python",
   "nbconvert_exporter": "python",
   "pygments_lexer": "ipython3",
   "version": "3.8.3"
  },
  "orig_nbformat": 4
 },
 "nbformat": 4,
 "nbformat_minor": 2
}
