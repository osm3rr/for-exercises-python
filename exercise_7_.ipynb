{
 "cells": [
  {
   "cell_type": "markdown",
   "metadata": {},
   "source": [
    "# Exercise 7\n",
    "An integer is called squarefree if it is not divisible by any perfect squares other than 1. For\n",
    "instance, 42 is squarefree because its divisors are 1, 2, 3, 6, 7, 21, and 42, and none of those\n",
    "numbers (except 1) is a perfect square. On the other hand, 45 is not squarefree because it is\n",
    "divisible by 9, which is a perfect square. Write a program that asks the user for an integer and\n",
    "tells them if it is squarefree or not."
   ]
  },
  {
   "cell_type": "code",
   "execution_count": 2,
   "metadata": {},
   "outputs": [
    {
     "name": "stdout",
     "output_type": "stream",
     "text": [
      "The 42 it is \"squarefree\"\n"
     ]
    }
   ],
   "source": [
    "# # Analysis\n",
    "# .1 Ingreso de datos\n",
    "# .2 Encontrar los divisores del número ingresado\n",
    "# .3 Verificar que los divisores no sean cuadrados perfectos. Exeptuando el \"1\".\n",
    "# .4 Sí en sus divisores no hay un cuadrado perfecto, entonces el número es squarefree\n",
    "# .5 Presentar resultados\n",
    "\n",
    "# libraries\n",
    "import math\n",
    "\n",
    "# Data entry\n",
    "number = int( input('Enter a integer number: ') )\n",
    "\n",
    "# *********** Logic **************\n",
    "\n",
    "# part 1: find divisors\n",
    "no_squarefree = 0 \n",
    "for num in range(2, number + 1):\n",
    "    if ( number % num ) == 0:\n",
    "        if ( num % math.sqrt(num) ) == 0.0:\n",
    "            no_squarefree = 1\n",
    "\n",
    "# Part 2: Results\n",
    "if no_squarefree == 1:\n",
    "    print(f'The {number} it is not \"squarefree\"')\n",
    "else:\n",
    "    print(f'The {number} it is \"squarefree\"')\n",
    " "
   ]
  }
 ],
 "metadata": {
  "interpreter": {
   "hash": "3313d7862e35f23cb796a0d5e1a05f5386948db6518b51457360428deb8d3fb3"
  },
  "kernelspec": {
   "display_name": "Python 3.8.3 64-bit ('base': conda)",
   "language": "python",
   "name": "python3"
  },
  "language_info": {
   "codemirror_mode": {
    "name": "ipython",
    "version": 3
   },
   "file_extension": ".py",
   "mimetype": "text/x-python",
   "name": "python",
   "nbconvert_exporter": "python",
   "pygments_lexer": "ipython3",
   "version": "3.8.3"
  },
  "orig_nbformat": 4
 },
 "nbformat": 4,
 "nbformat_minor": 2
}
