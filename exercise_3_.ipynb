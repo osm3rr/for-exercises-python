{
 "cells": [
  {
   "cell_type": "markdown",
   "metadata": {},
   "source": [
    "# Exercise 3\n",
    "Write a program that asks the user to enter a value n,\n",
    "and then computes  (1 + 1/2 + 1/3 + ⋯ + 1/n) − ln(n).\n",
    "The ln function is log in the math module."
   ]
  },
  {
   "cell_type": "code",
   "execution_count": null,
   "metadata": {},
   "outputs": [],
   "source": [
    "# Solution\n",
    "# ********* solution***********\n",
    "\n",
    "# Import required libraries\n",
    "import math\n",
    "\n",
    "# Data entry\n",
    "number = int( input( 'Enter a integer number: ' ) )\n",
    "\n",
    "# calculations\n",
    "\n",
    "# part 1: Sumatoria 1 + 1/2 + 1/3 + ... 1/n\n",
    "sum_1 = 0\n",
    "for num in range(1, number + 1):\n",
    "    sum_1 += ( 1 / num )\n",
    "\n",
    "# part 2: Logaritmo\n",
    "eq = sum_1 - math.log( number ) \n",
    "eq = round(eq, 4)\n",
    "\n",
    "# results presentations\n",
    "print(f'El resultado es: {eq}')"
   ]
  }
 ],
 "metadata": {
  "interpreter": {
   "hash": "3313d7862e35f23cb796a0d5e1a05f5386948db6518b51457360428deb8d3fb3"
  },
  "kernelspec": {
   "display_name": "Python 3.8.3 64-bit ('base': conda)",
   "language": "python",
   "name": "python3"
  },
  "language_info": {
   "name": "python",
   "version": "3.8.3"
  },
  "orig_nbformat": 4
 },
 "nbformat": 4,
 "nbformat_minor": 2
}
